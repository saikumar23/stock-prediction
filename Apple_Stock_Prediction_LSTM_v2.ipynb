{
  "nbformat": 4,
  "nbformat_minor": 0,
  "metadata": {
    "colab": {
      "name": "Apple-Stock-Prediction-LSTM-v2",
      "provenance": [],
      "collapsed_sections": []
    },
    "kernelspec": {
      "name": "python3",
      "display_name": "Python 3"
    },
    "language_info": {
      "name": "python"
    }
  },
  "cells": [
    {
      "cell_type": "code",
      "metadata": {
        "id": "dfblzosIWP26"
      },
      "source": [
        "import pandas as pd\n",
        "import pandas_datareader as pdr\n",
        "import numpy as np\n",
        "import matplotlib.pyplot as plt\n",
        "from sklearn.preprocessing import MinMaxScaler\n",
        "from keras.models import Sequential \n",
        "from keras.layers import Dense, Dropout, LSTM, ReLU"
      ],
      "execution_count": null,
      "outputs": []
    },
    {
      "cell_type": "markdown",
      "metadata": {
        "id": "imoK5n0xXG8_"
      },
      "source": [
        "Importing Data from Tiingo"
      ]
    },
    {
      "cell_type": "code",
      "metadata": {
        "id": "aAeR3vGSXFne"
      },
      "source": [
        "df = pdr.DataReader('GOOG','tiingo',api_key='07a549dfd2aaaf0bb130c21d539b0fbdf95c2476')"
      ],
      "execution_count": null,
      "outputs": []
    },
    {
      "cell_type": "code",
      "metadata": {
        "colab": {
          "base_uri": "https://localhost:8080/"
        },
        "id": "4RrvUEN_Xqtk",
        "outputId": "8577c2ca-a37d-41de-800e-692b1462e4b4"
      },
      "source": [
        "df.shape"
      ],
      "execution_count": null,
      "outputs": [
        {
          "output_type": "execute_result",
          "data": {
            "text/plain": [
              "(1257, 12)"
            ]
          },
          "metadata": {
            "tags": []
          },
          "execution_count": 52
        }
      ]
    },
    {
      "cell_type": "code",
      "metadata": {
        "colab": {
          "base_uri": "https://localhost:8080/",
          "height": 237
        },
        "id": "bTvfKCsdXtpW",
        "outputId": "091b4962-87b9-48df-a500-10eef447e79d"
      },
      "source": [
        "df.head(5)"
      ],
      "execution_count": null,
      "outputs": [
        {
          "output_type": "execute_result",
          "data": {
            "text/html": [
              "<div>\n",
              "<style scoped>\n",
              "    .dataframe tbody tr th:only-of-type {\n",
              "        vertical-align: middle;\n",
              "    }\n",
              "\n",
              "    .dataframe tbody tr th {\n",
              "        vertical-align: top;\n",
              "    }\n",
              "\n",
              "    .dataframe thead th {\n",
              "        text-align: right;\n",
              "    }\n",
              "</style>\n",
              "<table border=\"1\" class=\"dataframe\">\n",
              "  <thead>\n",
              "    <tr style=\"text-align: right;\">\n",
              "      <th></th>\n",
              "      <th></th>\n",
              "      <th>close</th>\n",
              "      <th>high</th>\n",
              "      <th>low</th>\n",
              "      <th>open</th>\n",
              "      <th>volume</th>\n",
              "      <th>adjClose</th>\n",
              "      <th>adjHigh</th>\n",
              "      <th>adjLow</th>\n",
              "      <th>adjOpen</th>\n",
              "      <th>adjVolume</th>\n",
              "      <th>divCash</th>\n",
              "      <th>splitFactor</th>\n",
              "    </tr>\n",
              "    <tr>\n",
              "      <th>symbol</th>\n",
              "      <th>date</th>\n",
              "      <th></th>\n",
              "      <th></th>\n",
              "      <th></th>\n",
              "      <th></th>\n",
              "      <th></th>\n",
              "      <th></th>\n",
              "      <th></th>\n",
              "      <th></th>\n",
              "      <th></th>\n",
              "      <th></th>\n",
              "      <th></th>\n",
              "      <th></th>\n",
              "    </tr>\n",
              "  </thead>\n",
              "  <tbody>\n",
              "    <tr>\n",
              "      <th rowspan=\"5\" valign=\"top\">GOOG</th>\n",
              "      <th>2016-08-15 00:00:00+00:00</th>\n",
              "      <td>782.44</td>\n",
              "      <td>787.49</td>\n",
              "      <td>780.110</td>\n",
              "      <td>783.75</td>\n",
              "      <td>938186</td>\n",
              "      <td>782.44</td>\n",
              "      <td>787.49</td>\n",
              "      <td>780.110</td>\n",
              "      <td>783.75</td>\n",
              "      <td>938186</td>\n",
              "      <td>0.0</td>\n",
              "      <td>1.0</td>\n",
              "    </tr>\n",
              "    <tr>\n",
              "      <th>2016-08-16 00:00:00+00:00</th>\n",
              "      <td>777.14</td>\n",
              "      <td>780.98</td>\n",
              "      <td>773.444</td>\n",
              "      <td>780.30</td>\n",
              "      <td>1028047</td>\n",
              "      <td>777.14</td>\n",
              "      <td>780.98</td>\n",
              "      <td>773.444</td>\n",
              "      <td>780.30</td>\n",
              "      <td>1028047</td>\n",
              "      <td>0.0</td>\n",
              "      <td>1.0</td>\n",
              "    </tr>\n",
              "    <tr>\n",
              "      <th>2016-08-17 00:00:00+00:00</th>\n",
              "      <td>779.91</td>\n",
              "      <td>780.81</td>\n",
              "      <td>773.530</td>\n",
              "      <td>777.32</td>\n",
              "      <td>924226</td>\n",
              "      <td>779.91</td>\n",
              "      <td>780.81</td>\n",
              "      <td>773.530</td>\n",
              "      <td>777.32</td>\n",
              "      <td>924226</td>\n",
              "      <td>0.0</td>\n",
              "      <td>1.0</td>\n",
              "    </tr>\n",
              "    <tr>\n",
              "      <th>2016-08-18 00:00:00+00:00</th>\n",
              "      <td>777.50</td>\n",
              "      <td>782.86</td>\n",
              "      <td>777.000</td>\n",
              "      <td>780.01</td>\n",
              "      <td>719429</td>\n",
              "      <td>777.50</td>\n",
              "      <td>782.86</td>\n",
              "      <td>777.000</td>\n",
              "      <td>780.01</td>\n",
              "      <td>719429</td>\n",
              "      <td>0.0</td>\n",
              "      <td>1.0</td>\n",
              "    </tr>\n",
              "    <tr>\n",
              "      <th>2016-08-19 00:00:00+00:00</th>\n",
              "      <td>775.42</td>\n",
              "      <td>777.10</td>\n",
              "      <td>773.130</td>\n",
              "      <td>775.00</td>\n",
              "      <td>861546</td>\n",
              "      <td>775.42</td>\n",
              "      <td>777.10</td>\n",
              "      <td>773.130</td>\n",
              "      <td>775.00</td>\n",
              "      <td>861546</td>\n",
              "      <td>0.0</td>\n",
              "      <td>1.0</td>\n",
              "    </tr>\n",
              "  </tbody>\n",
              "</table>\n",
              "</div>"
            ],
            "text/plain": [
              "                                   close    high  ...  divCash  splitFactor\n",
              "symbol date                                       ...                      \n",
              "GOOG   2016-08-15 00:00:00+00:00  782.44  787.49  ...      0.0          1.0\n",
              "       2016-08-16 00:00:00+00:00  777.14  780.98  ...      0.0          1.0\n",
              "       2016-08-17 00:00:00+00:00  779.91  780.81  ...      0.0          1.0\n",
              "       2016-08-18 00:00:00+00:00  777.50  782.86  ...      0.0          1.0\n",
              "       2016-08-19 00:00:00+00:00  775.42  777.10  ...      0.0          1.0\n",
              "\n",
              "[5 rows x 12 columns]"
            ]
          },
          "metadata": {
            "tags": []
          },
          "execution_count": 53
        }
      ]
    },
    {
      "cell_type": "code",
      "metadata": {
        "colab": {
          "base_uri": "https://localhost:8080/",
          "height": 237
        },
        "id": "8ESPnJNHXtsA",
        "outputId": "68020410-206c-41aa-afb5-394fa0055149"
      },
      "source": [
        "df.tail(5)"
      ],
      "execution_count": null,
      "outputs": [
        {
          "output_type": "execute_result",
          "data": {
            "text/html": [
              "<div>\n",
              "<style scoped>\n",
              "    .dataframe tbody tr th:only-of-type {\n",
              "        vertical-align: middle;\n",
              "    }\n",
              "\n",
              "    .dataframe tbody tr th {\n",
              "        vertical-align: top;\n",
              "    }\n",
              "\n",
              "    .dataframe thead th {\n",
              "        text-align: right;\n",
              "    }\n",
              "</style>\n",
              "<table border=\"1\" class=\"dataframe\">\n",
              "  <thead>\n",
              "    <tr style=\"text-align: right;\">\n",
              "      <th></th>\n",
              "      <th></th>\n",
              "      <th>close</th>\n",
              "      <th>high</th>\n",
              "      <th>low</th>\n",
              "      <th>open</th>\n",
              "      <th>volume</th>\n",
              "      <th>adjClose</th>\n",
              "      <th>adjHigh</th>\n",
              "      <th>adjLow</th>\n",
              "      <th>adjOpen</th>\n",
              "      <th>adjVolume</th>\n",
              "      <th>divCash</th>\n",
              "      <th>splitFactor</th>\n",
              "    </tr>\n",
              "    <tr>\n",
              "      <th>symbol</th>\n",
              "      <th>date</th>\n",
              "      <th></th>\n",
              "      <th></th>\n",
              "      <th></th>\n",
              "      <th></th>\n",
              "      <th></th>\n",
              "      <th></th>\n",
              "      <th></th>\n",
              "      <th></th>\n",
              "      <th></th>\n",
              "      <th></th>\n",
              "      <th></th>\n",
              "      <th></th>\n",
              "    </tr>\n",
              "  </thead>\n",
              "  <tbody>\n",
              "    <tr>\n",
              "      <th rowspan=\"5\" valign=\"top\">GOOG</th>\n",
              "      <th>2021-08-05 00:00:00+00:00</th>\n",
              "      <td>2738.80</td>\n",
              "      <td>2739.0000</td>\n",
              "      <td>2712.000</td>\n",
              "      <td>2720.57</td>\n",
              "      <td>593589</td>\n",
              "      <td>2738.80</td>\n",
              "      <td>2739.0000</td>\n",
              "      <td>2712.000</td>\n",
              "      <td>2720.57</td>\n",
              "      <td>593589</td>\n",
              "      <td>0.0</td>\n",
              "      <td>1.0</td>\n",
              "    </tr>\n",
              "    <tr>\n",
              "      <th>2021-08-06 00:00:00+00:00</th>\n",
              "      <td>2740.72</td>\n",
              "      <td>2741.6009</td>\n",
              "      <td>2720.930</td>\n",
              "      <td>2725.90</td>\n",
              "      <td>678251</td>\n",
              "      <td>2740.72</td>\n",
              "      <td>2741.6009</td>\n",
              "      <td>2720.930</td>\n",
              "      <td>2725.90</td>\n",
              "      <td>678251</td>\n",
              "      <td>0.0</td>\n",
              "      <td>1.0</td>\n",
              "    </tr>\n",
              "    <tr>\n",
              "      <th>2021-08-09 00:00:00+00:00</th>\n",
              "      <td>2760.04</td>\n",
              "      <td>2766.4300</td>\n",
              "      <td>2728.575</td>\n",
              "      <td>2738.98</td>\n",
              "      <td>618978</td>\n",
              "      <td>2760.04</td>\n",
              "      <td>2766.4300</td>\n",
              "      <td>2728.575</td>\n",
              "      <td>2738.98</td>\n",
              "      <td>618978</td>\n",
              "      <td>0.0</td>\n",
              "      <td>1.0</td>\n",
              "    </tr>\n",
              "    <tr>\n",
              "      <th>2021-08-10 00:00:00+00:00</th>\n",
              "      <td>2761.93</td>\n",
              "      <td>2771.0300</td>\n",
              "      <td>2744.530</td>\n",
              "      <td>2761.59</td>\n",
              "      <td>801954</td>\n",
              "      <td>2761.93</td>\n",
              "      <td>2771.0300</td>\n",
              "      <td>2744.530</td>\n",
              "      <td>2761.59</td>\n",
              "      <td>801954</td>\n",
              "      <td>0.0</td>\n",
              "      <td>1.0</td>\n",
              "    </tr>\n",
              "    <tr>\n",
              "      <th>2021-08-11 00:00:00+00:00</th>\n",
              "      <td>2753.79</td>\n",
              "      <td>2776.9550</td>\n",
              "      <td>2747.000</td>\n",
              "      <td>2765.66</td>\n",
              "      <td>760483</td>\n",
              "      <td>2753.79</td>\n",
              "      <td>2776.9550</td>\n",
              "      <td>2747.000</td>\n",
              "      <td>2765.66</td>\n",
              "      <td>760483</td>\n",
              "      <td>0.0</td>\n",
              "      <td>1.0</td>\n",
              "    </tr>\n",
              "  </tbody>\n",
              "</table>\n",
              "</div>"
            ],
            "text/plain": [
              "                                    close       high  ...  divCash  splitFactor\n",
              "symbol date                                           ...                      \n",
              "GOOG   2021-08-05 00:00:00+00:00  2738.80  2739.0000  ...      0.0          1.0\n",
              "       2021-08-06 00:00:00+00:00  2740.72  2741.6009  ...      0.0          1.0\n",
              "       2021-08-09 00:00:00+00:00  2760.04  2766.4300  ...      0.0          1.0\n",
              "       2021-08-10 00:00:00+00:00  2761.93  2771.0300  ...      0.0          1.0\n",
              "       2021-08-11 00:00:00+00:00  2753.79  2776.9550  ...      0.0          1.0\n",
              "\n",
              "[5 rows x 12 columns]"
            ]
          },
          "metadata": {
            "tags": []
          },
          "execution_count": 54
        }
      ]
    },
    {
      "cell_type": "code",
      "metadata": {
        "id": "9bARTmNjXtui"
      },
      "source": [
        "data = df.reset_index()['close']"
      ],
      "execution_count": null,
      "outputs": []
    },
    {
      "cell_type": "code",
      "metadata": {
        "colab": {
          "base_uri": "https://localhost:8080/",
          "height": 375
        },
        "id": "Wwky7AwCXt0W",
        "outputId": "5505e5d2-29d9-4ac8-c74f-01fbc1379fc6"
      },
      "source": [
        "plt.figure(figsize=(12,5))\n",
        "plt.title('Closing Price History')\n",
        "plt.plot(data)\n",
        "plt.xlabel('Day',fontsize=18)\n",
        "plt.ylabel('Price in $',fontsize=18)\n",
        "plt.show"
      ],
      "execution_count": null,
      "outputs": [
        {
          "output_type": "execute_result",
          "data": {
            "text/plain": [
              "<function matplotlib.pyplot.show>"
            ]
          },
          "metadata": {
            "tags": []
          },
          "execution_count": 56
        },
        {
          "output_type": "display_data",
          "data": {
            "image/png": "[encoded data removed]",
            "text/plain": [
              "<Figure size 864x360 with 1 Axes>"
            ]
          },
          "metadata": {
            "tags": [],
            "needs_background": "light"
          }
        }
      ]
    },
    {
      "cell_type": "code",
      "metadata": {
        "id": "LgPLFkOEZU4h"
      },
      "source": [
        "scaler = MinMaxScaler(feature_range=(0,1))\n",
        "data_array = scaler.fit_transform(np.array(data).reshape(-1,1))"
      ],
      "execution_count": null,
      "outputs": []
    },
    {
      "cell_type": "code",
      "metadata": {
        "id": "o6Q16YHRX-ke"
      },
      "source": [
        "training_data_len = int(len(data)*0.65)\n",
        "valid_data_len = len(data) - training_data_len"
      ],
      "execution_count": null,
      "outputs": []
    },
    {
      "cell_type": "code",
      "metadata": {
        "id": "zi-B35Y4X-rk"
      },
      "source": [
        "train_data, test_data = data_array[0:training_data_len,:],data_array[training_data_len:len(data_array),:1]"
      ],
      "execution_count": null,
      "outputs": []
    },
    {
      "cell_type": "code",
      "metadata": {
        "id": "KzVAjd_uaTKv"
      },
      "source": [
        "def create_dataset(data,time_step=1):\n",
        "  dataX, dataY = [],[]\n",
        "  for i in range(len(data)-time_step-1):\n",
        "    a = data[i:(i+time_step),0]\n",
        "    dataX.append(a)\n",
        "    dataY.append(data[i+time_step,0])\n",
        "  return np.array(dataX), np.array(dataY)"
      ],
      "execution_count": null,
      "outputs": []
    },
    {
      "cell_type": "code",
      "metadata": {
        "id": "hcUwBy3paTNK"
      },
      "source": [
        "time_step = 100\n",
        "X_train,Y_train = create_dataset(train_data,time_step)\n",
        "X_test, Y_test = create_dataset(test_data,time_step)"
      ],
      "execution_count": null,
      "outputs": []
    },
    {
      "cell_type": "code",
      "metadata": {
        "id": "xmfaOCaoaTPL"
      },
      "source": [
        "X_train = X_train.reshape(X_train.shape[0],X_train.shape[1],1)\n",
        "X_test = X_test.reshape(X_test.shape[0],X_test.shape[1],1)"
      ],
      "execution_count": null,
      "outputs": []
    },
    {
      "cell_type": "code",
      "metadata": {
        "id": "voo_Y_oWfNF_"
      },
      "source": [
        "model = Sequential()\n",
        "model.add(LSTM(100,return_sequences=True,input_shape=(100,1)))\n",
        "model.add(LSTM(100,return_sequences=True))\n",
        "model.add(LSTM(50))\n",
        "model.add(Dense(32))\n",
        "model.add(Dense(1))"
      ],
      "execution_count": null,
      "outputs": []
    },
    {
      "cell_type": "code",
      "metadata": {
        "colab": {
          "base_uri": "https://localhost:8080/"
        },
        "id": "Qy7c6JOYfNJh",
        "outputId": "0c86452a-4562-4dd5-8db8-68a0c4a103aa"
      },
      "source": [
        "model.compile(loss='mean_squared_error',optimizer='adam')\n",
        "model.summary()"
      ],
      "execution_count": null,
      "outputs": [
        {
          "output_type": "stream",
          "text": [
            "Model: \"sequential_10\"\n",
            "_________________________________________________________________\n",
            "Layer (type)                 Output Shape              Param #   \n",
            "=================================================================\n",
            "lstm_30 (LSTM)               (None, 100, 100)          40800     \n",
            "_________________________________________________________________\n",
            "lstm_31 (LSTM)               (None, 100, 100)          80400     \n",
            "_________________________________________________________________\n",
            "lstm_32 (LSTM)               (None, 50)                30200     \n",
            "_________________________________________________________________\n",
            "dense_17 (Dense)             (None, 32)                1632      \n",
            "_________________________________________________________________\n",
            "dense_18 (Dense)             (None, 1)                 33        \n",
            "=================================================================\n",
            "Total params: 153,065\n",
            "Trainable params: 153,065\n",
            "Non-trainable params: 0\n",
            "_________________________________________________________________\n"
          ],
          "name": "stdout"
        }
      ]
    },
    {
      "cell_type": "code",
      "metadata": {
        "colab": {
          "base_uri": "https://localhost:8080/"
        },
        "id": "dQHFu7Q9gx-f",
        "outputId": "4d47515c-2fc9-4583-b231-a574c2b5de5a"
      },
      "source": [
        "history = model.fit(X_train,Y_train,validation_data=(X_test,Y_test),epochs=50,batch_size=64,verbose=1)"
      ],
      "execution_count": null,
      "outputs": [
        {
          "output_type": "stream",
          "text": [
            "Epoch 1/50\n",
            "12/12 [==============================] - 11s 478ms/step - loss: 0.0093 - val_loss: 0.0456\n",
            "Epoch 2/50\n",
            "12/12 [==============================] - 4s 323ms/step - loss: 0.0011 - val_loss: 0.0398\n",
            "Epoch 3/50\n",
            "12/12 [==============================] - 4s 326ms/step - loss: 6.5662e-04 - val_loss: 0.0127\n",
            "Epoch 4/50\n",
            "12/12 [==============================] - 4s 325ms/step - loss: 4.2246e-04 - val_loss: 0.0038\n",
            "Epoch 5/50\n",
            "12/12 [==============================] - 4s 329ms/step - loss: 3.7576e-04 - val_loss: 0.0035\n",
            "Epoch 6/50\n",
            "12/12 [==============================] - 4s 331ms/step - loss: 2.9537e-04 - val_loss: 0.0041\n",
            "Epoch 7/50\n",
            "12/12 [==============================] - 4s 327ms/step - loss: 2.8374e-04 - val_loss: 0.0044\n",
            "Epoch 8/50\n",
            "12/12 [==============================] - 4s 326ms/step - loss: 3.0501e-04 - val_loss: 0.0041\n",
            "Epoch 9/50\n",
            "12/12 [==============================] - 4s 326ms/step - loss: 2.8871e-04 - val_loss: 0.0028\n",
            "Epoch 10/50\n",
            "12/12 [==============================] - 4s 324ms/step - loss: 3.0763e-04 - val_loss: 0.0036\n",
            "Epoch 11/50\n",
            "12/12 [==============================] - 4s 321ms/step - loss: 2.9378e-04 - val_loss: 0.0047\n",
            "Epoch 12/50\n",
            "12/12 [==============================] - 4s 322ms/step - loss: 2.8244e-04 - val_loss: 0.0045\n",
            "Epoch 13/50\n",
            "12/12 [==============================] - 4s 323ms/step - loss: 2.9136e-04 - val_loss: 0.0047\n",
            "Epoch 14/50\n",
            "12/12 [==============================] - 4s 321ms/step - loss: 2.9218e-04 - val_loss: 0.0033\n",
            "Epoch 15/50\n",
            "12/12 [==============================] - 4s 321ms/step - loss: 2.5717e-04 - val_loss: 0.0041\n",
            "Epoch 16/50\n",
            "12/12 [==============================] - 4s 322ms/step - loss: 2.5435e-04 - val_loss: 0.0030\n",
            "Epoch 17/50\n",
            "12/12 [==============================] - 4s 323ms/step - loss: 3.1221e-04 - val_loss: 0.0051\n",
            "Epoch 18/50\n",
            "12/12 [==============================] - 4s 329ms/step - loss: 2.8052e-04 - val_loss: 0.0018\n",
            "Epoch 19/50\n",
            "12/12 [==============================] - 4s 321ms/step - loss: 3.5305e-04 - val_loss: 0.0047\n",
            "Epoch 20/50\n",
            "12/12 [==============================] - 4s 325ms/step - loss: 2.8197e-04 - val_loss: 0.0020\n",
            "Epoch 21/50\n",
            "12/12 [==============================] - 4s 331ms/step - loss: 2.8288e-04 - val_loss: 0.0032\n",
            "Epoch 22/50\n",
            "12/12 [==============================] - 4s 327ms/step - loss: 2.9612e-04 - val_loss: 0.0046\n",
            "Epoch 23/50\n",
            "12/12 [==============================] - 4s 329ms/step - loss: 2.9165e-04 - val_loss: 0.0033\n",
            "Epoch 24/50\n",
            "12/12 [==============================] - 4s 327ms/step - loss: 2.6345e-04 - val_loss: 0.0025\n",
            "Epoch 25/50\n",
            "12/12 [==============================] - 4s 320ms/step - loss: 2.5106e-04 - val_loss: 0.0036\n",
            "Epoch 26/50\n",
            "12/12 [==============================] - 4s 324ms/step - loss: 2.2249e-04 - val_loss: 0.0043\n",
            "Epoch 27/50\n",
            "12/12 [==============================] - 4s 324ms/step - loss: 2.5412e-04 - val_loss: 0.0045\n",
            "Epoch 28/50\n",
            "12/12 [==============================] - 4s 320ms/step - loss: 2.4142e-04 - val_loss: 0.0033\n",
            "Epoch 29/50\n",
            "12/12 [==============================] - 4s 323ms/step - loss: 2.0882e-04 - val_loss: 0.0046\n",
            "Epoch 30/50\n",
            "12/12 [==============================] - 4s 321ms/step - loss: 2.4186e-04 - val_loss: 0.0041\n",
            "Epoch 31/50\n",
            "12/12 [==============================] - 4s 324ms/step - loss: 2.5912e-04 - val_loss: 0.0039\n",
            "Epoch 32/50\n",
            "12/12 [==============================] - 4s 319ms/step - loss: 2.1354e-04 - val_loss: 0.0035\n",
            "Epoch 33/50\n",
            "12/12 [==============================] - 4s 321ms/step - loss: 2.4656e-04 - val_loss: 0.0072\n",
            "Epoch 34/50\n",
            "12/12 [==============================] - 4s 324ms/step - loss: 2.4350e-04 - val_loss: 0.0022\n",
            "Epoch 35/50\n",
            "12/12 [==============================] - 4s 322ms/step - loss: 2.1483e-04 - val_loss: 0.0064\n",
            "Epoch 36/50\n",
            "12/12 [==============================] - 4s 323ms/step - loss: 2.0977e-04 - val_loss: 0.0019\n",
            "Epoch 37/50\n",
            "12/12 [==============================] - 4s 324ms/step - loss: 2.3906e-04 - val_loss: 0.0062\n",
            "Epoch 38/50\n",
            "12/12 [==============================] - 4s 324ms/step - loss: 1.9979e-04 - val_loss: 0.0052\n",
            "Epoch 39/50\n",
            "12/12 [==============================] - 4s 329ms/step - loss: 2.7484e-04 - val_loss: 0.0028\n",
            "Epoch 40/50\n",
            "12/12 [==============================] - 4s 321ms/step - loss: 2.9896e-04 - val_loss: 0.0049\n",
            "Epoch 41/50\n",
            "12/12 [==============================] - 4s 323ms/step - loss: 1.9779e-04 - val_loss: 0.0046\n",
            "Epoch 42/50\n",
            "12/12 [==============================] - 4s 320ms/step - loss: 2.1503e-04 - val_loss: 0.0039\n",
            "Epoch 43/50\n",
            "12/12 [==============================] - 4s 320ms/step - loss: 2.1109e-04 - val_loss: 0.0066\n",
            "Epoch 44/50\n",
            "12/12 [==============================] - 4s 319ms/step - loss: 2.2413e-04 - val_loss: 0.0032\n",
            "Epoch 45/50\n",
            "12/12 [==============================] - 4s 323ms/step - loss: 1.9067e-04 - val_loss: 0.0064\n",
            "Epoch 46/50\n",
            "12/12 [==============================] - 4s 323ms/step - loss: 2.0024e-04 - val_loss: 0.0029\n",
            "Epoch 47/50\n",
            "12/12 [==============================] - 4s 322ms/step - loss: 1.9245e-04 - val_loss: 0.0062\n",
            "Epoch 48/50\n",
            "12/12 [==============================] - 4s 322ms/step - loss: 1.7805e-04 - val_loss: 0.0039\n",
            "Epoch 49/50\n",
            "12/12 [==============================] - 4s 320ms/step - loss: 1.5419e-04 - val_loss: 0.0058\n",
            "Epoch 50/50\n",
            "12/12 [==============================] - 4s 320ms/step - loss: 1.6959e-04 - val_loss: 0.0032\n"
          ],
          "name": "stdout"
        }
      ]
    },
    {
      "cell_type": "code",
      "metadata": {
        "colab": {
          "base_uri": "https://localhost:8080/",
          "height": 295
        },
        "id": "IffZrEH2y8JH",
        "outputId": "d64a9005-e395-4385-b561-721d251529ea"
      },
      "source": [
        "plt.plot(history.history['loss'])\n",
        "plt.plot(history.history['val_loss'])\n",
        "plt.title('model loss')\n",
        "plt.ylabel('loss')\n",
        "plt.xlabel('epoch')\n",
        "plt.legend(['train', 'validation'], loc='upper left')\n",
        "plt.show()"
      ],
      "execution_count": null,
      "outputs": [
        {
          "output_type": "display_data",
          "data": {
            "image/png": "[encoded data removed]",
            "text/plain": [
              "<Figure size 432x288 with 1 Axes>"
            ]
          },
          "metadata": {
            "tags": [],
            "needs_background": "light"
          }
        }
      ]
    },
    {
      "cell_type": "code",
      "metadata": {
        "id": "uTczllJygyGY"
      },
      "source": [
        "train_predict = model.predict(X_train)\n",
        "test_predict = model.predict(X_test)"
      ],
      "execution_count": null,
      "outputs": []
    },
    {
      "cell_type": "code",
      "metadata": {
        "id": "p_yKXy3djyT8"
      },
      "source": [
        "train_predict = scaler.inverse_transform(train_predict)\n",
        "test_predict = scaler.inverse_transform(test_predict)"
      ],
      "execution_count": null,
      "outputs": []
    },
    {
      "cell_type": "code",
      "metadata": {
        "colab": {
          "base_uri": "https://localhost:8080/"
        },
        "id": "u10yEJn4jeea",
        "outputId": "d5d97a53-7427-4060-a02d-f666dfe91da6"
      },
      "source": [
        "import math\n",
        "from sklearn.metrics import mean_squared_error\n",
        "math.sqrt(mean_squared_error(Y_test,test_predict))"
      ],
      "execution_count": null,
      "outputs": [
        {
          "output_type": "execute_result",
          "data": {
            "text/plain": [
              "1815.3869303367912"
            ]
          },
          "metadata": {
            "tags": []
          },
          "execution_count": 148
        }
      ]
    },
    {
      "cell_type": "code",
      "metadata": {
        "colab": {
          "base_uri": "https://localhost:8080/",
          "height": 483
        },
        "id": "GQvm7EMBjehy",
        "outputId": "a75c23b5-d5e5-43ef-fff5-b7c1028a38ee"
      },
      "source": [
        "look_back = 100\n",
        "train_predict_plot = np.empty_like(data_array)\n",
        "train_predict_plot[:,:] = np.nan\n",
        "train_predict_plot[look_back:len(train_predict)+look_back,:] = train_predict\n",
        "test_predict_plot = np.empty_like(data_array)\n",
        "test_predict_plot[:,:] = np.nan\n",
        "test_predict_plot[len(train_predict)+(look_back*2)+1:len(data_array)-1,:] = test_predict\n",
        "plt.figure(figsize=(16,8))\n",
        "plt.plot(scaler.inverse_transform(data_array))\n",
        "plt.plot(train_predict_plot)\n",
        "plt.plot(test_predict_plot)\n",
        "plt.legend(['Actual','Training Prediction','Test Prediction'], loc='lower right')\n",
        "plt.show()"
      ],
      "execution_count": null,
      "outputs": [
        {
          "output_type": "display_data",
          "data": {
            "image/png": "[encoded data removed]",
            "text/plain": [
              "<Figure size 1152x576 with 1 Axes>"
            ]
          },
          "metadata": {
            "tags": [],
            "needs_background": "light"
          }
        }
      ]
    },
    {
      "cell_type": "code",
      "metadata": {
        "colab": {
          "base_uri": "https://localhost:8080/"
        },
        "id": "XjDaRn51jelT",
        "outputId": "411ec57a-5aa5-4048-d75d-d74e62002ad3"
      },
      "source": [
        "len(test_data)"
      ],
      "execution_count": null,
      "outputs": [
        {
          "output_type": "execute_result",
          "data": {
            "text/plain": [
              "440"
            ]
          },
          "metadata": {
            "tags": []
          },
          "execution_count": 150
        }
      ]
    },
    {
      "cell_type": "code",
      "metadata": {
        "colab": {
          "base_uri": "https://localhost:8080/"
        },
        "id": "52KzPPTel91h",
        "outputId": "6ac5c71d-1358-454b-edcc-f42bf5c914d7"
      },
      "source": [
        "x_input = test_data[340:].reshape(1,-1)\n",
        "x_input.shape"
      ],
      "execution_count": null,
      "outputs": [
        {
          "output_type": "execute_result",
          "data": {
            "text/plain": [
              "(1, 100)"
            ]
          },
          "metadata": {
            "tags": []
          },
          "execution_count": 151
        }
      ]
    },
    {
      "cell_type": "code",
      "metadata": {
        "id": "6cHwHzgXl93y"
      },
      "source": [
        "temp_input = list(x_input)\n",
        "temp_input = temp_input[0].tolist()"
      ],
      "execution_count": null,
      "outputs": []
    },
    {
      "cell_type": "code",
      "metadata": {
        "colab": {
          "base_uri": "https://localhost:8080/"
        },
        "id": "aMVIOkKvl95u",
        "outputId": "78b01079-77a4-404a-f9af-2754fe654f48"
      },
      "source": [
        "lst_output = []\n",
        "n_steps = 100\n",
        "i = 0\n",
        "while i < 30:\n",
        "  if len(temp_input)>100:\n",
        "    x_input = np.array(temp_input[1:])\n",
        "    x_input = x_input.reshape(1,-1)\n",
        "    x_input = x_input.reshape((1,n_steps,1))\n",
        "    yhat = model.predict(x_input,verbose=0)\n",
        "    temp_input.extend(yhat[0].tolist())\n",
        "    temp_input = temp_input[1:]\n",
        "    lst_output.extend(yhat.tolist())\n",
        "    i = i+1\n",
        "  else:\n",
        "    x_input = x_input.reshape(1,n_steps,1)\n",
        "    yhat = model.predict(x_input,verbose=0)\n",
        "    print(yhat[0])\n",
        "    temp_input.extend(yhat[0].tolist())\n",
        "    lst_output.extend(yhat.tolist())\n",
        "    i = i+1\n",
        "print(lst_output)"
      ],
      "execution_count": null,
      "outputs": [
        {
          "output_type": "stream",
          "text": [
            "[0.86106235]\n",
            "[[0.8610623478889465], [0.8506093621253967], [0.829200267791748], [0.8010574579238892], [0.7697257399559021], [0.7375887632369995], [0.7060911655426025], [0.676067590713501], [0.647996187210083], [0.6221491694450378], [0.5986698269844055], [0.5776064991950989], [0.5589299201965332], [0.542546808719635], [0.5283111929893494], [0.5160383582115173], [0.5055185556411743], [0.49652883410453796], [0.488844096660614], [0.48224541544914246], [0.4765267074108124], [0.47150006890296936], [0.4669977128505707], [0.46287477016448975], [0.45900923013687134], [0.4553012251853943], [0.45167285203933716], [0.4480656087398529], [0.4444385766983032], [0.44076594710350037]]\n"
          ],
          "name": "stdout"
        }
      ]
    },
    {
      "cell_type": "code",
      "metadata": {
        "id": "3bOxB4JAl97y"
      },
      "source": [
        "day_new = np.arange(1,101)\n",
        "day_pred = np.arange(101,131)"
      ],
      "execution_count": null,
      "outputs": []
    },
    {
      "cell_type": "code",
      "metadata": {
        "id": "tn9IrCrbl9-3"
      },
      "source": [
        "import matplotlib.pyplot as plt"
      ],
      "execution_count": null,
      "outputs": []
    },
    {
      "cell_type": "code",
      "metadata": {
        "colab": {
          "base_uri": "https://localhost:8080/"
        },
        "id": "BAs2FFfXqKj5",
        "outputId": "df8ceac6-874f-44f1-9ab5-6cc4504a4e8d"
      },
      "source": [
        "len(data_array)"
      ],
      "execution_count": null,
      "outputs": [
        {
          "output_type": "execute_result",
          "data": {
            "text/plain": [
              "1257"
            ]
          },
          "metadata": {
            "tags": []
          },
          "execution_count": 156
        }
      ]
    },
    {
      "cell_type": "code",
      "metadata": {
        "id": "YC1jHrsAqKnU"
      },
      "source": [
        "data1 = data_array.tolist()\n",
        "data1.extend(lst_output)"
      ],
      "execution_count": null,
      "outputs": []
    },
    {
      "cell_type": "code",
      "metadata": {
        "colab": {
          "base_uri": "https://localhost:8080/",
          "height": 501
        },
        "id": "JR4eFrx7qYGM",
        "outputId": "45a62b77-9650-4894-bff7-f66bf078a4b0"
      },
      "source": [
        "plt.figure(figsize=(16,8))\n",
        "plt.plot(day_new,scaler.inverse_transform(data_array[1157:]))\n",
        "plt.plot(day_pred,scaler.inverse_transform(lst_output))"
      ],
      "execution_count": null,
      "outputs": [
        {
          "output_type": "execute_result",
          "data": {
            "text/plain": [
              "[<matplotlib.lines.Line2D at 0x7fae39babe50>]"
            ]
          },
          "metadata": {
            "tags": []
          },
          "execution_count": 158
        },
        {
          "output_type": "display_data",
          "data": {
            "image/png": "[encoded data removed]",
            "text/plain": [
              "<Figure size 1152x576 with 1 Axes>"
            ]
          },
          "metadata": {
            "tags": [],
            "needs_background": "light"
          }
        }
      ]
    },
    {
      "cell_type": "code",
      "metadata": {
        "id": "iqShi054qrvv"
      },
      "source": [
        ""
      ],
      "execution_count": null,
      "outputs": []
    }
  ]
}